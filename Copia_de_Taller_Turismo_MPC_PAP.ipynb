{
  "nbformat": 4,
  "nbformat_minor": 0,
  "metadata": {
    "colab": {
      "provenance": [],
      "include_colab_link": true
    },
    "kernelspec": {
      "name": "python3",
      "display_name": "Python 3"
    },
    "language_info": {
      "name": "python"
    }
  },
  "cells": [
    {
      "cell_type": "markdown",
      "metadata": {
        "id": "view-in-github",
        "colab_type": "text"
      },
      "source": [
        "<a href=\"https://colab.research.google.com/github/mariapcamero/Taller_Final_Turismo/blob/main/Copia_de_Taller_Turismo_MPC_PAP.ipynb\" target=\"_parent\"><img src=\"https://colab.research.google.com/assets/colab-badge.svg\" alt=\"Open In Colab\"/></a>"
      ]
    },
    {
      "cell_type": "markdown",
      "source": [
        "**Parte 1:**\n"
      ],
      "metadata": {
        "id": "G-yDWeusEORa"
      }
    },
    {
      "cell_type": "code",
      "source": [
        "from google.colab import drive\n",
        "drive.mount('/content/drive')"
      ],
      "metadata": {
        "colab": {
          "base_uri": "https://localhost:8080/"
        },
        "id": "XTb-NpMJC53L",
        "outputId": "80d866bb-2d3a-4177-deec-f8e8e4519b54"
      },
      "execution_count": null,
      "outputs": [
        {
          "output_type": "stream",
          "name": "stdout",
          "text": [
            "Mounted at /content/drive\n"
          ]
        }
      ]
    },
    {
      "cell_type": "code",
      "source": [
        "url= \"/content/drive/MyDrive/Entradas_de_extranjeros_a_Colombia_20231026.xlsx\""
      ],
      "metadata": {
        "id": "l-z8_bViDTFL"
      },
      "execution_count": null,
      "outputs": []
    },
    {
      "cell_type": "code",
      "source": [
        "import pandas as pd"
      ],
      "metadata": {
        "id": "cJpAhrHSDPZ1"
      },
      "execution_count": null,
      "outputs": []
    },
    {
      "cell_type": "code",
      "source": [
        "  Extranjeros_Col=pd.read_excel(url)"
      ],
      "metadata": {
        "id": "wK7H3NTjDxsT"
      },
      "execution_count": null,
      "outputs": []
    },
    {
      "cell_type": "code",
      "source": [
        "Extranjeros_Col.head()"
      ],
      "metadata": {
        "colab": {
          "base_uri": "https://localhost:8080/",
          "height": 204
        },
        "id": "biBRiBPnEEAF",
        "outputId": "b0d544e5-5621-4904-9279-e7c5db8bb037"
      },
      "execution_count": null,
      "outputs": [
        {
          "output_type": "execute_result",
          "data": {
            "text/plain": [
              "    Año    Mes             Nacionalidad  Codigo Iso 3166  Femenino  Masculino  \\\n",
              "0  2012  Enero  Islas Alboran y Perejil            99999         1          0   \n",
              "1  2012  Enero                  Albania                8         1          2   \n",
              "2  2012  Enero                 Alemania              276        11         16   \n",
              "3  2012  Enero                 Alemania              276         1          1   \n",
              "4  2012  Enero                 Alemania              276        63        102   \n",
              "\n",
              "   Indefinido  Total      Latitud - Longitud  \\\n",
              "0         NaN      1   (4.697144,-74.140516)   \n",
              "1         NaN      3   (4.697144,-74.140516)   \n",
              "2         NaN     27  (-4.197703,-69.941278)   \n",
              "3         NaN      2    (0.25129,-76.875963)   \n",
              "4         NaN    165   (0.814836,-77.662532)   \n",
              "\n",
              "                                      Ciudad Unnamed: 10  \n",
              "0                                Bogotá D.C          NaN  \n",
              "1                                 Bogotá D.C         NaN  \n",
              "2                          Leticia, Amazonas         NaN  \n",
              "3  Puente Internacional San Miguel, Putumayo         NaN  \n",
              "4     Puente Internacional Rumichaca, Nariño         NaN  "
            ],
            "text/html": [
              "\n",
              "  <div id=\"df-13c5ba26-2e82-4d7d-9f71-d9c809542398\" class=\"colab-df-container\">\n",
              "    <div>\n",
              "<style scoped>\n",
              "    .dataframe tbody tr th:only-of-type {\n",
              "        vertical-align: middle;\n",
              "    }\n",
              "\n",
              "    .dataframe tbody tr th {\n",
              "        vertical-align: top;\n",
              "    }\n",
              "\n",
              "    .dataframe thead th {\n",
              "        text-align: right;\n",
              "    }\n",
              "</style>\n",
              "<table border=\"1\" class=\"dataframe\">\n",
              "  <thead>\n",
              "    <tr style=\"text-align: right;\">\n",
              "      <th></th>\n",
              "      <th>Año</th>\n",
              "      <th>Mes</th>\n",
              "      <th>Nacionalidad</th>\n",
              "      <th>Codigo Iso 3166</th>\n",
              "      <th>Femenino</th>\n",
              "      <th>Masculino</th>\n",
              "      <th>Indefinido</th>\n",
              "      <th>Total</th>\n",
              "      <th>Latitud - Longitud</th>\n",
              "      <th>Ciudad</th>\n",
              "      <th>Unnamed: 10</th>\n",
              "    </tr>\n",
              "  </thead>\n",
              "  <tbody>\n",
              "    <tr>\n",
              "      <th>0</th>\n",
              "      <td>2012</td>\n",
              "      <td>Enero</td>\n",
              "      <td>Islas Alboran y Perejil</td>\n",
              "      <td>99999</td>\n",
              "      <td>1</td>\n",
              "      <td>0</td>\n",
              "      <td>NaN</td>\n",
              "      <td>1</td>\n",
              "      <td>(4.697144,-74.140516)</td>\n",
              "      <td>Bogotá D.C</td>\n",
              "      <td>NaN</td>\n",
              "    </tr>\n",
              "    <tr>\n",
              "      <th>1</th>\n",
              "      <td>2012</td>\n",
              "      <td>Enero</td>\n",
              "      <td>Albania</td>\n",
              "      <td>8</td>\n",
              "      <td>1</td>\n",
              "      <td>2</td>\n",
              "      <td>NaN</td>\n",
              "      <td>3</td>\n",
              "      <td>(4.697144,-74.140516)</td>\n",
              "      <td>Bogotá D.C</td>\n",
              "      <td>NaN</td>\n",
              "    </tr>\n",
              "    <tr>\n",
              "      <th>2</th>\n",
              "      <td>2012</td>\n",
              "      <td>Enero</td>\n",
              "      <td>Alemania</td>\n",
              "      <td>276</td>\n",
              "      <td>11</td>\n",
              "      <td>16</td>\n",
              "      <td>NaN</td>\n",
              "      <td>27</td>\n",
              "      <td>(-4.197703,-69.941278)</td>\n",
              "      <td>Leticia, Amazonas</td>\n",
              "      <td>NaN</td>\n",
              "    </tr>\n",
              "    <tr>\n",
              "      <th>3</th>\n",
              "      <td>2012</td>\n",
              "      <td>Enero</td>\n",
              "      <td>Alemania</td>\n",
              "      <td>276</td>\n",
              "      <td>1</td>\n",
              "      <td>1</td>\n",
              "      <td>NaN</td>\n",
              "      <td>2</td>\n",
              "      <td>(0.25129,-76.875963)</td>\n",
              "      <td>Puente Internacional San Miguel, Putumayo</td>\n",
              "      <td>NaN</td>\n",
              "    </tr>\n",
              "    <tr>\n",
              "      <th>4</th>\n",
              "      <td>2012</td>\n",
              "      <td>Enero</td>\n",
              "      <td>Alemania</td>\n",
              "      <td>276</td>\n",
              "      <td>63</td>\n",
              "      <td>102</td>\n",
              "      <td>NaN</td>\n",
              "      <td>165</td>\n",
              "      <td>(0.814836,-77.662532)</td>\n",
              "      <td>Puente Internacional Rumichaca, Nariño</td>\n",
              "      <td>NaN</td>\n",
              "    </tr>\n",
              "  </tbody>\n",
              "</table>\n",
              "</div>\n",
              "    <div class=\"colab-df-buttons\">\n",
              "\n",
              "  <div class=\"colab-df-container\">\n",
              "    <button class=\"colab-df-convert\" onclick=\"convertToInteractive('df-13c5ba26-2e82-4d7d-9f71-d9c809542398')\"\n",
              "            title=\"Convert this dataframe to an interactive table.\"\n",
              "            style=\"display:none;\">\n",
              "\n",
              "  <svg xmlns=\"http://www.w3.org/2000/svg\" height=\"24px\" viewBox=\"0 -960 960 960\">\n",
              "    <path d=\"M120-120v-720h720v720H120Zm60-500h600v-160H180v160Zm220 220h160v-160H400v160Zm0 220h160v-160H400v160ZM180-400h160v-160H180v160Zm440 0h160v-160H620v160ZM180-180h160v-160H180v160Zm440 0h160v-160H620v160Z\"/>\n",
              "  </svg>\n",
              "    </button>\n",
              "\n",
              "  <style>\n",
              "    .colab-df-container {\n",
              "      display:flex;\n",
              "      gap: 12px;\n",
              "    }\n",
              "\n",
              "    .colab-df-convert {\n",
              "      background-color: #E8F0FE;\n",
              "      border: none;\n",
              "      border-radius: 50%;\n",
              "      cursor: pointer;\n",
              "      display: none;\n",
              "      fill: #1967D2;\n",
              "      height: 32px;\n",
              "      padding: 0 0 0 0;\n",
              "      width: 32px;\n",
              "    }\n",
              "\n",
              "    .colab-df-convert:hover {\n",
              "      background-color: #E2EBFA;\n",
              "      box-shadow: 0px 1px 2px rgba(60, 64, 67, 0.3), 0px 1px 3px 1px rgba(60, 64, 67, 0.15);\n",
              "      fill: #174EA6;\n",
              "    }\n",
              "\n",
              "    .colab-df-buttons div {\n",
              "      margin-bottom: 4px;\n",
              "    }\n",
              "\n",
              "    [theme=dark] .colab-df-convert {\n",
              "      background-color: #3B4455;\n",
              "      fill: #D2E3FC;\n",
              "    }\n",
              "\n",
              "    [theme=dark] .colab-df-convert:hover {\n",
              "      background-color: #434B5C;\n",
              "      box-shadow: 0px 1px 3px 1px rgba(0, 0, 0, 0.15);\n",
              "      filter: drop-shadow(0px 1px 2px rgba(0, 0, 0, 0.3));\n",
              "      fill: #FFFFFF;\n",
              "    }\n",
              "  </style>\n",
              "\n",
              "    <script>\n",
              "      const buttonEl =\n",
              "        document.querySelector('#df-13c5ba26-2e82-4d7d-9f71-d9c809542398 button.colab-df-convert');\n",
              "      buttonEl.style.display =\n",
              "        google.colab.kernel.accessAllowed ? 'block' : 'none';\n",
              "\n",
              "      async function convertToInteractive(key) {\n",
              "        const element = document.querySelector('#df-13c5ba26-2e82-4d7d-9f71-d9c809542398');\n",
              "        const dataTable =\n",
              "          await google.colab.kernel.invokeFunction('convertToInteractive',\n",
              "                                                    [key], {});\n",
              "        if (!dataTable) return;\n",
              "\n",
              "        const docLinkHtml = 'Like what you see? Visit the ' +\n",
              "          '<a target=\"_blank\" href=https://colab.research.google.com/notebooks/data_table.ipynb>data table notebook</a>'\n",
              "          + ' to learn more about interactive tables.';\n",
              "        element.innerHTML = '';\n",
              "        dataTable['output_type'] = 'display_data';\n",
              "        await google.colab.output.renderOutput(dataTable, element);\n",
              "        const docLink = document.createElement('div');\n",
              "        docLink.innerHTML = docLinkHtml;\n",
              "        element.appendChild(docLink);\n",
              "      }\n",
              "    </script>\n",
              "  </div>\n",
              "\n",
              "\n",
              "<div id=\"df-a7cf5e4e-2217-47dd-a4a8-e8d1e0cfabbf\">\n",
              "  <button class=\"colab-df-quickchart\" onclick=\"quickchart('df-a7cf5e4e-2217-47dd-a4a8-e8d1e0cfabbf')\"\n",
              "            title=\"Suggest charts.\"\n",
              "            style=\"display:none;\">\n",
              "\n",
              "<svg xmlns=\"http://www.w3.org/2000/svg\" height=\"24px\"viewBox=\"0 0 24 24\"\n",
              "     width=\"24px\">\n",
              "    <g>\n",
              "        <path d=\"M19 3H5c-1.1 0-2 .9-2 2v14c0 1.1.9 2 2 2h14c1.1 0 2-.9 2-2V5c0-1.1-.9-2-2-2zM9 17H7v-7h2v7zm4 0h-2V7h2v10zm4 0h-2v-4h2v4z\"/>\n",
              "    </g>\n",
              "</svg>\n",
              "  </button>\n",
              "\n",
              "<style>\n",
              "  .colab-df-quickchart {\n",
              "      --bg-color: #E8F0FE;\n",
              "      --fill-color: #1967D2;\n",
              "      --hover-bg-color: #E2EBFA;\n",
              "      --hover-fill-color: #174EA6;\n",
              "      --disabled-fill-color: #AAA;\n",
              "      --disabled-bg-color: #DDD;\n",
              "  }\n",
              "\n",
              "  [theme=dark] .colab-df-quickchart {\n",
              "      --bg-color: #3B4455;\n",
              "      --fill-color: #D2E3FC;\n",
              "      --hover-bg-color: #434B5C;\n",
              "      --hover-fill-color: #FFFFFF;\n",
              "      --disabled-bg-color: #3B4455;\n",
              "      --disabled-fill-color: #666;\n",
              "  }\n",
              "\n",
              "  .colab-df-quickchart {\n",
              "    background-color: var(--bg-color);\n",
              "    border: none;\n",
              "    border-radius: 50%;\n",
              "    cursor: pointer;\n",
              "    display: none;\n",
              "    fill: var(--fill-color);\n",
              "    height: 32px;\n",
              "    padding: 0;\n",
              "    width: 32px;\n",
              "  }\n",
              "\n",
              "  .colab-df-quickchart:hover {\n",
              "    background-color: var(--hover-bg-color);\n",
              "    box-shadow: 0 1px 2px rgba(60, 64, 67, 0.3), 0 1px 3px 1px rgba(60, 64, 67, 0.15);\n",
              "    fill: var(--button-hover-fill-color);\n",
              "  }\n",
              "\n",
              "  .colab-df-quickchart-complete:disabled,\n",
              "  .colab-df-quickchart-complete:disabled:hover {\n",
              "    background-color: var(--disabled-bg-color);\n",
              "    fill: var(--disabled-fill-color);\n",
              "    box-shadow: none;\n",
              "  }\n",
              "\n",
              "  .colab-df-spinner {\n",
              "    border: 2px solid var(--fill-color);\n",
              "    border-color: transparent;\n",
              "    border-bottom-color: var(--fill-color);\n",
              "    animation:\n",
              "      spin 1s steps(1) infinite;\n",
              "  }\n",
              "\n",
              "  @keyframes spin {\n",
              "    0% {\n",
              "      border-color: transparent;\n",
              "      border-bottom-color: var(--fill-color);\n",
              "      border-left-color: var(--fill-color);\n",
              "    }\n",
              "    20% {\n",
              "      border-color: transparent;\n",
              "      border-left-color: var(--fill-color);\n",
              "      border-top-color: var(--fill-color);\n",
              "    }\n",
              "    30% {\n",
              "      border-color: transparent;\n",
              "      border-left-color: var(--fill-color);\n",
              "      border-top-color: var(--fill-color);\n",
              "      border-right-color: var(--fill-color);\n",
              "    }\n",
              "    40% {\n",
              "      border-color: transparent;\n",
              "      border-right-color: var(--fill-color);\n",
              "      border-top-color: var(--fill-color);\n",
              "    }\n",
              "    60% {\n",
              "      border-color: transparent;\n",
              "      border-right-color: var(--fill-color);\n",
              "    }\n",
              "    80% {\n",
              "      border-color: transparent;\n",
              "      border-right-color: var(--fill-color);\n",
              "      border-bottom-color: var(--fill-color);\n",
              "    }\n",
              "    90% {\n",
              "      border-color: transparent;\n",
              "      border-bottom-color: var(--fill-color);\n",
              "    }\n",
              "  }\n",
              "</style>\n",
              "\n",
              "  <script>\n",
              "    async function quickchart(key) {\n",
              "      const quickchartButtonEl =\n",
              "        document.querySelector('#' + key + ' button');\n",
              "      quickchartButtonEl.disabled = true;  // To prevent multiple clicks.\n",
              "      quickchartButtonEl.classList.add('colab-df-spinner');\n",
              "      try {\n",
              "        const charts = await google.colab.kernel.invokeFunction(\n",
              "            'suggestCharts', [key], {});\n",
              "      } catch (error) {\n",
              "        console.error('Error during call to suggestCharts:', error);\n",
              "      }\n",
              "      quickchartButtonEl.classList.remove('colab-df-spinner');\n",
              "      quickchartButtonEl.classList.add('colab-df-quickchart-complete');\n",
              "    }\n",
              "    (() => {\n",
              "      let quickchartButtonEl =\n",
              "        document.querySelector('#df-a7cf5e4e-2217-47dd-a4a8-e8d1e0cfabbf button');\n",
              "      quickchartButtonEl.style.display =\n",
              "        google.colab.kernel.accessAllowed ? 'block' : 'none';\n",
              "    })();\n",
              "  </script>\n",
              "</div>\n",
              "    </div>\n",
              "  </div>\n"
            ]
          },
          "metadata": {},
          "execution_count": 5
        }
      ]
    },
    {
      "cell_type": "code",
      "source": [
        "Extranjeros_Col.info()"
      ],
      "metadata": {
        "colab": {
          "base_uri": "https://localhost:8080/"
        },
        "id": "GPo8yrhrHf1G",
        "outputId": "63645ae7-7dbc-405b-fdbe-66cb1bd78e54"
      },
      "execution_count": null,
      "outputs": [
        {
          "output_type": "stream",
          "name": "stdout",
          "text": [
            "<class 'pandas.core.frame.DataFrame'>\n",
            "RangeIndex: 135040 entries, 0 to 135039\n",
            "Data columns (total 11 columns):\n",
            " #   Column              Non-Null Count   Dtype  \n",
            "---  ------              --------------   -----  \n",
            " 0   Año                 135040 non-null  int64  \n",
            " 1   Mes                 135040 non-null  object \n",
            " 2   Nacionalidad        135040 non-null  object \n",
            " 3   Codigo Iso 3166     135040 non-null  int64  \n",
            " 4   Femenino            135040 non-null  int64  \n",
            " 5   Masculino           135040 non-null  int64  \n",
            " 6   Indefinido          0 non-null       float64\n",
            " 7   Total               135040 non-null  int64  \n",
            " 8   Latitud - Longitud  135040 non-null  object \n",
            " 9   Ciudad              135026 non-null  object \n",
            " 10  Unnamed: 10         2029 non-null    object \n",
            "dtypes: float64(1), int64(5), object(5)\n",
            "memory usage: 11.3+ MB\n"
          ]
        }
      ]
    },
    {
      "cell_type": "code",
      "source": [
        "descripcion= Extranjeros_Col.describe()\n",
        "print(descripcion)"
      ],
      "metadata": {
        "colab": {
          "base_uri": "https://localhost:8080/"
        },
        "id": "lusjbRogH7Z3",
        "outputId": "92900a47-ca46-4676-840a-73816f573cf7"
      },
      "execution_count": null,
      "outputs": [
        {
          "output_type": "stream",
          "name": "stdout",
          "text": [
            "                 Año  Codigo Iso 3166       Femenino      Masculino  \\\n",
            "count  135040.000000    135040.000000  135040.000000  135040.000000   \n",
            "mean     2017.200096      1181.567195      93.862789     130.103814   \n",
            "std         3.348798      8637.454454     679.580759     872.534538   \n",
            "min      2012.000000         0.000000       0.000000       0.000000   \n",
            "25%      2014.000000       208.000000       0.000000       1.000000   \n",
            "50%      2017.000000       392.000000       2.000000       3.000000   \n",
            "75%      2020.000000       643.000000       9.000000      17.000000   \n",
            "max      2023.000000     99999.000000   39500.000000   48041.000000   \n",
            "\n",
            "       Indefinido          Total  \n",
            "count         0.0  135040.000000  \n",
            "mean          NaN     223.977022  \n",
            "std           NaN    1536.541134  \n",
            "min           NaN       1.000000  \n",
            "25%           NaN       2.000000  \n",
            "50%           NaN       5.000000  \n",
            "75%           NaN      26.000000  \n",
            "max           NaN   82609.000000  \n"
          ]
        }
      ]
    },
    {
      "cell_type": "markdown",
      "source": [
        "Para llevar a cabo este proyecto contamos con una base de datos con información de los extranjeros que han ingresado al país (Colombia) desde el 2012 hasta la actualidad, la cual nos permitirá analizar la cantidad de extranjeros que ingresaron al país en un periodo de tiempo determinado, su nacionalidad y que nacionalidades son más comunes, todo esto para poder crear estrategias turisticas y plantear hipótesis acerca del motivo de su visita.\n",
        "\n",
        "**Pregunta de investigación:** ¿Cuáles son los patrones y tendencias de la entrada de extranjeros a Colombia en términos de género, nacionalidad y ubicación geográfica?\n",
        "\n",
        "**Posibles Objetivos:**\n",
        "1. Analizar la distribución anual de la entrada de extranjeros a Colombia.\n",
        "2. Investigar las diferencias en la entrada de extranjeros según su nacionalidad y determinar los países de origen más comunes.\n",
        "3. Examinar la proporción de hombres, mujeres e individuos de género indefinido entre los extranjeros que ingresan a Colombia.\n",
        "4. Explorar la relación entre la ubicación geográfica y la entrada de extranjeros, identificando las regiones o ciudades con mayor afluencia migratoria.\n",
        "5. Identificar patrones teniendo en cuenta el mes de ingreso al país."
      ],
      "metadata": {
        "id": "wQBuEPzNEbNT"
      }
    },
    {
      "cell_type": "markdown",
      "source": [
        "Hola Chicos, Aquí les he dado una idea de cómo pueden desarrollar su trabajo de investigación... tienen cada respuesta solucionada, sin embargo, quiero llevarlos un poco más allá, a partir de esta información, diganme. Qué más podríamos obtenes de este dataframe?, que otras métricas se les ocurre?, correlaciones?, predicciones?, gráficas de visualización, vamos más allá.\n",
        "\n",
        "Aquí viene la parte retadora de su trabajo final. Quiero que me propongan un extra más allá de lo visto en clase, vamos a investigar!\n",
        "\n",
        "Saludos.\n",
        "\n",
        "pdt. rectifiquen mi propuesta y me dicen si corre o no y si se les ocurre una idea mejor de lograr los mismos resultados o de ir más allá en el análisis.\n"
      ],
      "metadata": {
        "id": "-BbITPyfoFz6"
      }
    },
    {
      "cell_type": "code",
      "source": [
        "# Pregunta de investigación 1\n",
        "# Analizar la distribución anual de la entrada de extranjeros a Colombia.\n",
        "df['Año'].value_counts().sort_index()\n",
        "\n",
        "# Pregunta de investigación 2\n",
        "# Investigar las diferencias en la entrada de extranjeros según su nacionalidad y determinar los países de origen más comunes.\n",
        "nacionalidades_comunes = df['Nacionalidad'].value_counts().head(10)\n",
        "\n",
        "# Pregunta de investigación 3\n",
        "# Examinar la proporción de hombres, mujeres e individuos de género indefinido entre los extranjeros que ingresan a Colombia.\n",
        "genero_counts = df[['Femenino', 'Masculino', 'Indefinido']].sum()\n",
        "\n",
        "# Pregunta de investigación 4\n",
        "# Explorar la relación entre la ubicación geográfica y la entrada de extranjeros, identificando las regiones o ciudades con mayor afluencia migratoria.\n",
        "ciudades_con_mas_ingresos = df['Ciudad'].value_counts().head(10)\n",
        "\n",
        "# Pregunta de investigación 5\n",
        "# Identificar patrones teniendo en cuenta el mes de ingreso al país.\n",
        "ingresos_por_mes = df.groupby('Mes').size()\n",
        "\n",
        "# Imprimir los resultados\n",
        "print(\"Distribución anual de entrada de extranjeros:\")\n",
        "print(df['Año'].value_counts().sort_index())\n",
        "\n",
        "print(\"\\nPaíses de origen más comunes:\")\n",
        "print(nacionalidades_comunes)\n",
        "\n",
        "print(\"\\nProporción de género entre los extranjeros:\")\n",
        "print(genero_counts)\n",
        "\n",
        "print(\"\\nCiudades con mayor afluencia migratoria:\")\n",
        "print(ciudades_con_mas_ingresos)\n",
        "\n",
        "print(\"\\nPatrones de ingreso por mes:\")\n",
        "print(ingresos_por_mes)\n"
      ],
      "metadata": {
        "id": "K3BqNL36ny9P",
        "colab": {
          "base_uri": "https://localhost:8080/",
          "height": 242
        },
        "outputId": "b1303693-833d-4ec6-a7b1-2334af518249"
      },
      "execution_count": null,
      "outputs": [
        {
          "output_type": "error",
          "ename": "NameError",
          "evalue": "ignored",
          "traceback": [
            "\u001b[0;31m---------------------------------------------------------------------------\u001b[0m",
            "\u001b[0;31mNameError\u001b[0m                                 Traceback (most recent call last)",
            "\u001b[0;32m<ipython-input-8-f3c6eef77577>\u001b[0m in \u001b[0;36m<cell line: 3>\u001b[0;34m()\u001b[0m\n\u001b[1;32m      1\u001b[0m \u001b[0;31m# Pregunta de investigación 1\u001b[0m\u001b[0;34m\u001b[0m\u001b[0;34m\u001b[0m\u001b[0m\n\u001b[1;32m      2\u001b[0m \u001b[0;31m# Analizar la distribución anual de la entrada de extranjeros a Colombia.\u001b[0m\u001b[0;34m\u001b[0m\u001b[0;34m\u001b[0m\u001b[0m\n\u001b[0;32m----> 3\u001b[0;31m \u001b[0mdf\u001b[0m\u001b[0;34m[\u001b[0m\u001b[0;34m'Año'\u001b[0m\u001b[0;34m]\u001b[0m\u001b[0;34m.\u001b[0m\u001b[0mvalue_counts\u001b[0m\u001b[0;34m(\u001b[0m\u001b[0;34m)\u001b[0m\u001b[0;34m.\u001b[0m\u001b[0msort_index\u001b[0m\u001b[0;34m(\u001b[0m\u001b[0;34m)\u001b[0m\u001b[0;34m\u001b[0m\u001b[0;34m\u001b[0m\u001b[0m\n\u001b[0m\u001b[1;32m      4\u001b[0m \u001b[0;34m\u001b[0m\u001b[0m\n\u001b[1;32m      5\u001b[0m \u001b[0;31m# Pregunta de investigación 2\u001b[0m\u001b[0;34m\u001b[0m\u001b[0;34m\u001b[0m\u001b[0m\n",
            "\u001b[0;31mNameError\u001b[0m: name 'df' is not defined"
          ]
        }
      ]
    },
    {
      "cell_type": "code",
      "source": [
        "Extranjeros_Col['Año'].value_counts().sort_index()"
      ],
      "metadata": {
        "colab": {
          "base_uri": "https://localhost:8080/"
        },
        "id": "ZXYN79V0bgJq",
        "outputId": "97625d99-ce63-4501-cd69-6ca2bac7bbe5"
      },
      "execution_count": null,
      "outputs": [
        {
          "output_type": "execute_result",
          "data": {
            "text/plain": [
              "2012    11773\n",
              "2013    11797\n",
              "2014    11689\n",
              "2015    12243\n",
              "2016    12242\n",
              "2017    13144\n",
              "2018    13459\n",
              "2019    13568\n",
              "2020     5436\n",
              "2021     8346\n",
              "2022    13476\n",
              "2023     7867\n",
              "Name: Año, dtype: int64"
            ]
          },
          "metadata": {},
          "execution_count": 18
        }
      ]
    },
    {
      "cell_type": "code",
      "source": [
        "nacionalidades_comunes = Extranjeros_col['Nacionalidad'].value_counts().head(10)"
      ],
      "metadata": {
        "id": "cmyWXQDwi3tM",
        "outputId": "02735f86-dde4-457c-cdce-221a6115b88d",
        "colab": {
          "base_uri": "https://localhost:8080/",
          "height": 176
        }
      },
      "execution_count": 1,
      "outputs": [
        {
          "output_type": "error",
          "ename": "NameError",
          "evalue": "ignored",
          "traceback": [
            "\u001b[0;31m---------------------------------------------------------------------------\u001b[0m",
            "\u001b[0;31mNameError\u001b[0m                                 Traceback (most recent call last)",
            "\u001b[0;32m<ipython-input-1-31ea7eb269f1>\u001b[0m in \u001b[0;36m<cell line: 1>\u001b[0;34m()\u001b[0m\n\u001b[0;32m----> 1\u001b[0;31m \u001b[0mnacionalidades_comunes\u001b[0m \u001b[0;34m=\u001b[0m \u001b[0mExtranjeros_col\u001b[0m\u001b[0;34m[\u001b[0m\u001b[0;34m'Nacionalidad'\u001b[0m\u001b[0;34m]\u001b[0m\u001b[0;34m.\u001b[0m\u001b[0mvalue_counts\u001b[0m\u001b[0;34m(\u001b[0m\u001b[0;34m)\u001b[0m\u001b[0;34m.\u001b[0m\u001b[0mhead\u001b[0m\u001b[0;34m(\u001b[0m\u001b[0;36m10\u001b[0m\u001b[0;34m)\u001b[0m\u001b[0;34m\u001b[0m\u001b[0;34m\u001b[0m\u001b[0m\n\u001b[0m",
            "\u001b[0;31mNameError\u001b[0m: name 'Extranjeros_col' is not defined"
          ]
        }
      ]
    }
  ]
}